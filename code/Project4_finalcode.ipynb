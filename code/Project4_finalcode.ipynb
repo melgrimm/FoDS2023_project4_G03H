{
 "cells": [
  {
   "attachments": {},
   "cell_type": "markdown",
   "id": "a94012bf",
   "metadata": {},
   "source": [
    "# Foundations of Data Science - Project 4 Brain Tumor Analysis"
   ]
  },
  {
   "attachments": {},
   "cell_type": "markdown",
   "id": "5fb29171",
   "metadata": {},
   "source": [
    "## Importing"
   ]
  },
  {
   "attachments": {},
   "cell_type": "markdown",
   "id": "441cec5f",
   "metadata": {},
   "source": [
    "### Importing libraries"
   ]
  },
  {
   "cell_type": "code",
   "execution_count": 17,
   "id": "10c3abdd",
   "metadata": {},
   "outputs": [],
   "source": [
    "import matplotlib as mpl\n",
    "import pandas as pd\n",
    "import seaborn as sns\n",
    "import scipy as scs\n",
    "import scipy.stats as sts\n",
    "\n",
    "import zipfile\n",
    "from zipfile import ZipFile\n",
    "\n",
    "import matplotlib.pyplot as plt\n",
    "from matplotlib.patches import Rectangle\n",
    "\n",
    "import numpy as np \n",
    "from numpy import sqrt\n",
    "\n",
    "import sklearn\n",
    "from sklearn.metrics import roc_curve, confusion_matrix, auc, mean_squared_error, mean_absolute_error, r2_score\n",
    "from sklearn.linear_model import LogisticRegression, LinearRegression, Ridge, Lasso\n",
    "from sklearn.ensemble import RandomForestRegressor\n",
    "from sklearn.model_selection import StratifiedKFold, GridSearchCV, train_test_split, KFold\n",
    "from sklearn.preprocessing import StandardScaler\n",
    "from sklearn.feature_selection import RFE, SelectKBest\n",
    "from sklearn.datasets import load_iris\n",
    "from sklearn import svm\n"
   ]
  },
  {
   "cell_type": "code",
   "execution_count": 5,
   "id": "f6ed78a5",
   "metadata": {},
   "outputs": [
    {
     "name": "stdout",
     "output_type": "stream",
     "text": [
      "Python version: 3.10.10\n",
      "Matplotlib version: 3.7.1\n",
      "Pandas version: 1.5.3\n",
      "NumPy version: 1.23.5\n",
      "Seaborn version: 0.12.2\n",
      "Scipy version: 1.10.0\n",
      "Sklearn version: 1.2.2\n"
     ]
    }
   ],
   "source": [
    "#Check Version:\n",
    "print(\"Python version:\", \"3.10.10\")\n",
    "print(\"Matplotlib version:\", mpl.__version__)\n",
    "print(\"Pandas version:\", pd.__version__)\n",
    "print(\"NumPy version:\", np.__version__)\n",
    "print(\"Seaborn version:\", sns.__version__)\n",
    "print(\"Scipy version:\", scs.__version__)\n",
    "print(\"Sklearn version:\", sklearn.__version__)\n",
    "\n"
   ]
  },
  {
   "attachments": {},
   "cell_type": "markdown",
   "id": "b32f9850",
   "metadata": {},
   "source": [
    "### Importing cvs files"
   ]
  },
  {
   "attachments": {},
   "cell_type": "markdown",
   "id": "b2702494",
   "metadata": {},
   "source": []
  },
  {
   "cell_type": "code",
   "execution_count": 18,
   "id": "183a0707",
   "metadata": {
    "scrolled": true
   },
   "outputs": [],
   "source": [
    "clin_df_initial = pd.read_csv(\"../data/clinFeatures_UPENN.csv\",index_col=False)\n",
    "\n",
    "zf = zipfile.ZipFile(\"../data/radFeatures_UPENN.csv.zip\") \n",
    "rad_df_initial = pd.read_csv(zf.open('radFeatures_UPENN.csv'), index_col=False)\n",
    "\n",
    "\n",
    "clin_df = clin_df_initial\n",
    "rad_df = rad_df_initial"
   ]
  },
  {
   "attachments": {},
   "cell_type": "markdown",
   "id": "c125eabb",
   "metadata": {},
   "source": [
    "## Data overview"
   ]
  },
  {
   "cell_type": "code",
   "execution_count": 19,
   "id": "192c8ac3",
   "metadata": {},
   "outputs": [
    {
     "name": "stdout",
     "output_type": "stream",
     "text": [
      "(611, 10)\n",
      "(611, 4753)\n"
     ]
    }
   ],
   "source": [
    "print(clin_df.shape)\n",
    "print(rad_df.shape)"
   ]
  },
  {
   "cell_type": "code",
   "execution_count": null,
   "id": "4bf3bc38",
   "metadata": {
    "scrolled": false
   },
   "outputs": [],
   "source": [
    "print(clin_df.head(5))\n",
    "print('----------------------------------')\n",
    "print(rad_df.head(5))"
   ]
  },
  {
   "attachments": {},
   "cell_type": "markdown",
   "id": "08c966f7",
   "metadata": {},
   "source": [
    "### Overview of clinical data set"
   ]
  },
  {
   "cell_type": "code",
   "execution_count": null,
   "id": "b7677557",
   "metadata": {},
   "outputs": [],
   "source": [
    "#shape of data frame and data types\n",
    "print(clin_df.info()) #patient numbers=611\n",
    "\n",
    "print((clin_df.isna().sum(axis=1) == 0).sum()) #no patient with all attributes ->PsP_TP_score all (611) NaN \n",
    "print(clin_df['PsP_TP_score'].value_counts())"
   ]
  },
  {
   "cell_type": "code",
   "execution_count": null,
   "id": "2ae74f96",
   "metadata": {
    "scrolled": false
   },
   "outputs": [],
   "source": [
    "print(clin_df.dtypes)"
   ]
  },
  {
   "cell_type": "code",
   "execution_count": null,
   "id": "0318453f",
   "metadata": {
    "scrolled": true
   },
   "outputs": [],
   "source": [
    "# How many missing data is there in each row (axis = 1), default would be axis = 0\n",
    "missing_values_1= clin_df.isna().sum(axis = 1) \n",
    "print(missing_values_1)\n",
    "\n",
    "# How many missing data is there in each column (axis = 0)\n",
    "missing_values_1= clin_df.isna().sum(axis = 0) \n",
    "print(missing_values_1)\n"
   ]
  },
  {
   "cell_type": "code",
   "execution_count": null,
   "id": "861fad5b",
   "metadata": {},
   "outputs": [],
   "source": [
    "#brief summary of the extremes/means/medians & distribution\n",
    "print(clin_df.describe())\n",
    "print('MGMT:\\n', clin_df['MGMT'].value_counts())\n",
    "print('IDH1:\\n', clin_df['IDH1'].value_counts())\n",
    "print('KPS:\\n', clin_df['KPS'].value_counts())\n",
    "print('Time_since_baseline_preop:\\n', clin_df['Time_since_baseline_preop'].value_counts())\n",
    "print('Survival_from_surgery_days:\\n', clin_df['Survival_from_surgery_days'].value_counts())\n",
    "\n",
    "#Duplicate rows\n",
    "print('Amount of duplicates:', clin_df.duplicated().sum())"
   ]
  },
  {
   "cell_type": "code",
   "execution_count": null,
   "id": "ce613331",
   "metadata": {},
   "outputs": [],
   "source": [
    "print('GTR_over90percent:\\n',clin_df['GTR_over90percent'].value_counts()) #first considered as potential outcome\n",
    "df_GTR = pd.DataFrame(clin_df['GTR_over90percent'])"
   ]
  },
  {
   "attachments": {},
   "cell_type": "markdown",
   "id": "6f6cfc3e",
   "metadata": {},
   "source": [
    "### Overview of MRI data set "
   ]
  },
  {
   "cell_type": "code",
   "execution_count": null,
   "id": "958e2526",
   "metadata": {},
   "outputs": [],
   "source": [
    "#Description of MRI data (=rad_df)\n",
    "print(rad_df.shape)\n",
    "print(rad_df.head(5))\n",
    "print(rad_df.info())\n",
    "print(rad_df.describe())"
   ]
  },
  {
   "cell_type": "code",
   "execution_count": null,
   "id": "5a5e86ae",
   "metadata": {},
   "outputs": [],
   "source": [
    "#Check the data types\n",
    "print(rad_df.dtypes)"
   ]
  },
  {
   "cell_type": "code",
   "execution_count": null,
   "id": "9aa53d4c",
   "metadata": {},
   "outputs": [],
   "source": [
    "#Missing values for each row and column\n",
    "missing_values_2= rad_df.isna().sum(axis = 1)\n",
    "print(missing_values_2)\n",
    "\n",
    "missing_values_2= rad_df.isna().sum(axis = 0)\n",
    "print(missing_values_2)\n"
   ]
  },
  {
   "cell_type": "code",
   "execution_count": null,
   "id": "d8099b40",
   "metadata": {},
   "outputs": [],
   "source": [
    "print(rad_df[rad_df.isna().any(axis=1)])"
   ]
  },
  {
   "attachments": {},
   "cell_type": "markdown",
   "id": "238a3320",
   "metadata": {},
   "source": [
    "## Preprocessing "
   ]
  },
  {
   "cell_type": "code",
   "execution_count": null,
   "id": "45709987",
   "metadata": {},
   "outputs": [],
   "source": [
    "#Remove TP score column (because it's empty)\n",
    "clin_df=clin_df.drop(columns=['PsP_TP_score'], axis=1) \n",
    "#check if the column has been removed correctly\n",
    "print(clin_df.columns)"
   ]
  },
  {
   "cell_type": "code",
   "execution_count": null,
   "id": "2a967bda",
   "metadata": {
    "scrolled": true
   },
   "outputs": [],
   "source": [
    "#clean data\n",
    "clin_df=clin_df[clin_df.Survival_from_surgery_days != 'Not Available']\n",
    "print('Survival_from_surgery_days:\\n', clin_df['Survival_from_surgery_days'].value_counts())\n",
    "print(clin_df.shape)"
   ]
  },
  {
   "cell_type": "code",
   "execution_count": null,
   "id": "d903d024",
   "metadata": {},
   "outputs": [],
   "source": [
    "#adapt rad_df to processed clin data index\n",
    "rad_df=rad_df.loc[clin_df.index]\n",
    "print(rad_df.shape)"
   ]
  },
  {
   "cell_type": "code",
   "execution_count": null,
   "id": "86d93519",
   "metadata": {},
   "outputs": [],
   "source": [
    "#GTR numeric transformation (0=no, 1=yes, 2=Not available)\n",
    "clin_df['GTR_over90percent']=pd.Categorical(clin_df['GTR_over90percent'], ordered=False)\n",
    "print(clin_df.dtypes)\n",
    "clin_df['GTR_over90percent'] = pd.factorize(clin_df['GTR_over90percent'])[0]\n",
    "#print(clin_df)\n",
    "print(clin_df['GTR_over90percent'].value_counts())"
   ]
  },
  {
   "cell_type": "code",
   "execution_count": null,
   "id": "38d4a54e",
   "metadata": {},
   "outputs": [],
   "source": [
    "#restrict analysis to complete cases\n",
    "#print(rad_df.shape)\n",
    "rad_df = rad_df[rad_df.isna().sum(axis=1)==0]\n",
    "#print('missing values left?', rad_df[rad_df.isna().any(axis=1)])\n",
    "#print(rad_df.shape) ##reduced from 452 to 312\n"
   ]
  },
  {
   "cell_type": "code",
   "execution_count": null,
   "id": "0252fc65",
   "metadata": {},
   "outputs": [],
   "source": [
    "#saving the dataset after preprocessing for the visualisation\n",
    "# Create a new dataset clin_df_vis with columns from clin_df\n",
    "clin_df_vis = clin_df.assign(Gender=clin_df['Gender'], Age_at_scan_years=clin_df['Age_at_scan_years'])\n",
    "\n",
    "# Print the resulting dataset\n",
    "print(clin_df_vis)"
   ]
  },
  {
   "cell_type": "code",
   "execution_count": null,
   "id": "ecc31d6e",
   "metadata": {},
   "outputs": [],
   "source": [
    "#Gender numeric transformation (M = 0 and F = 1)\n",
    "clin_df['Gender'] = clin_df['Gender'].map({'F': 0, 'M': 1})"
   ]
  },
  {
   "attachments": {},
   "cell_type": "markdown",
   "id": "e344f13e",
   "metadata": {},
   "source": [
    "### Merging the two data sets "
   ]
  },
  {
   "cell_type": "code",
   "execution_count": null,
   "id": "16549a61",
   "metadata": {},
   "outputs": [],
   "source": [
    "merged_df = pd.merge(clin_df, rad_df, on='SubjectID')\n",
    "#print(merged_df.columns)\n",
    "#print(merged_df.shape)\n",
    "merged_df=merged_df.drop(columns=['SubjectID','Time_since_baseline_preop','KPS','Time_since_baseline_preop', 'IDH1', 'MGMT'], axis=1)"
   ]
  },
  {
   "attachments": {},
   "cell_type": "markdown",
   "id": "b3c95989",
   "metadata": {},
   "source": [
    "## Splitting Data"
   ]
  },
  {
   "attachments": {},
   "cell_type": "markdown",
   "id": "a17d4bb2",
   "metadata": {},
   "source": [
    "### Splitting into training and test set"
   ]
  },
  {
   "cell_type": "code",
   "execution_count": null,
   "id": "2fa7929a",
   "metadata": {},
   "outputs": [],
   "source": [
    "# Construct features and labels\n",
    "df_X = merged_df.drop(\"Survival_from_surgery_days\", axis=1)\n",
    "df_y = merged_df[\"Survival_from_surgery_days\"]\n",
    "\n",
    "print(df_X)\n",
    "print(df_y)"
   ]
  },
  {
   "cell_type": "code",
   "execution_count": null,
   "id": "29a1964b",
   "metadata": {},
   "outputs": [],
   "source": [
    "# Split the dataset into training and testing sets using the sklearn 'train_test_split' function into 80% for training and 20% for testing,\n",
    "# set the random seed to 2023.\n",
    "\n",
    "df_X_train, df_X_test, df_y_train, df_y_test = train_test_split(df_X, df_y, test_size = 0.2, random_state = 2023)\n",
    "\n",
    "\n",
    "#Scale the data\n",
    "\n",
    "sc = StandardScaler()\n",
    "\n",
    "df_X_train = sc.fit_transform(df_X_train)\n",
    "df_X_test = sc.transform(df_X_test)\n",
    "\n",
    "#convert it back into a pandas dataframe: \n",
    "\n",
    "df_X_train = pd.DataFrame(df_X_train, columns=df_X.columns)\n",
    "df_X_test = pd.DataFrame(df_X_test, columns=df_X.columns)"
   ]
  },
  {
   "attachments": {},
   "cell_type": "markdown",
   "id": "b53e3cca",
   "metadata": {},
   "source": [
    "# Data visualization "
   ]
  },
  {
   "cell_type": "code",
   "execution_count": null,
   "id": "2a26804e",
   "metadata": {},
   "outputs": [],
   "source": [
    "#Visualization: \n",
    "\n",
    "#custom colorblind friendly colors dictionary \n",
    "colorblind_15 = {\n",
    "    # Source: http://mkweb.bcgsc.ca/biovis2012/color-blindness-palette.png\n",
    "    'green':      [36, 255, 36],   #24ff24\n",
    "    'orange':     [219, 109, 0],   #db6d00\n",
    "    'lightblue':  [182, 219, 255], #b6dbff\n",
    "    'darkblue':   [0, 109, 219],   #006ddb\n",
    "    'violet':     [182, 109, 255], #b66dff\n",
    "    'darkgreen':  [0, 73, 73],     #004949\n",
    "    'brown':      [146, 73, 0],    #924900\n",
    "    'purple':     [73, 0, 146],    #490092\n",
    "    'red':        [146, 0, 0],     #920000\n",
    "    'lightpink':  [255, 182, 219], #ffb6db\n",
    "    'lightgreen': [0, 146, 146],   #009292\n",
    "    'pink':       [255, 109, 182], #ff6db6\n",
    "    'blue':       [109, 182, 255], #6db6ff\n",
    "    'yellow':     [255, 255, 109], #ffff6d\n",
    "    'black':      [0, 0, 0]        #000000\n",
    "}\n",
    "colorblind_normalized = {} \n",
    "\n",
    "for color, RGB in colorblind_15.items(): \n",
    "    # Get each RGB values\n",
    "    r,g,b = colorblind_15[color]\n",
    "    # Store the normalized values\n",
    "    colorblind_normalized[color] = [r/255, g/255, b/255]\n",
    "    \n",
    "# Create a custom color palette compatible with seaborn library \n",
    "colorblind_palette_seaborn = colorblind_normalized\n",
    "\n",
    "#set the default colorblind palette\n",
    "sns.set_palette(colorblind_palette_seaborn)\n"
   ]
  },
  {
   "cell_type": "code",
   "execution_count": null,
   "id": "4e4ec16c",
   "metadata": {},
   "outputs": [],
   "source": [
    "#color palette for report: black, malibu blue and silver\n",
    "color_palette_bbg=['#000000', '#6db6ff', '#a3a3a3']"
   ]
  },
  {
   "cell_type": "code",
   "execution_count": null,
   "id": "687d2cd4",
   "metadata": {},
   "outputs": [],
   "source": [
    "#duplicates in clinical data? \n",
    "dup = clin_df_vis.duplicated().any()\n",
    "print(dup)\n"
   ]
  },
  {
   "attachments": {},
   "cell_type": "markdown",
   "id": "e5c29670",
   "metadata": {},
   "source": [
    "### Age Distribution split by Gender"
   ]
  },
  {
   "cell_type": "code",
   "execution_count": null,
   "id": "f955df7f",
   "metadata": {
    "scrolled": true
   },
   "outputs": [],
   "source": [
    "# age distributed by gender: \n",
    "#difference before and after: \n",
    "fig, axes = plt.subplots(1, 2, figsize=(12, 6))\n",
    "age_gender_before = sns.histplot(clin_df_initial, x ='Age_at_scan_years', binwidth = 4, hue ='Gender', binrange= (18, 90), ax = axes[0])\n",
    "age_gender_after = sns.histplot(clin_df_vis, x ='Age_at_scan_years', binwidth = 4, hue ='Gender', binrange= (18, 90), ax = axes[1])\n",
    "label_axes_before = age_gender_before.set(xlabel='Age [year]', ylabel='Number of Patiens', title= 'Age distribution by Gender before Data Preprocessing') \n",
    "label_axes_after = age_gender_after.set(xlabel='Age [year]', ylabel='Number of Patiens', title= 'Age distribution by Gender after Data Preprocessing') \n",
    "plt.ylim(0, 50)\n",
    "\n",
    "plt.savefig('../output/age_distribution_gender.png')\n"
   ]
  },
  {
   "cell_type": "code",
   "execution_count": null,
   "id": "1909da27",
   "metadata": {},
   "outputs": [],
   "source": [
    "# age distributed by gender: \n",
    "#difference before and after: \n",
    "fig, axes = plt.subplots(1, 2, figsize=(12, 6))\n",
    "age_gender_before = sns.histplot(clin_df_initial, x ='Age_at_scan_years', palette=color_palette_bbg[:2], binwidth = 4, hue ='Gender', binrange= (18, 90), ax = axes[0])\n",
    "age_gender_after = sns.histplot(clin_df_vis, x ='Age_at_scan_years', palette=color_palette_bbg[:2],binwidth = 4, hue ='Gender', binrange= (18, 90), ax = axes[1])\n",
    "label_axes_before = age_gender_before.set(xlabel='Age [year]', ylabel='Number of Patiens', title= 'Age distribution by Gender before Data Preprocessing') \n",
    "label_axes_after = age_gender_after.set(xlabel='Age [year]', ylabel='Number of Patiens', title= 'Age distribution by Gender after Data Preprocessing') \n",
    "plt.ylim(0, 50)\n",
    "\n",
    "plt.savefig('../output/age_distribution_gender_blackblue.png')\n"
   ]
  },
  {
   "attachments": {},
   "cell_type": "markdown",
   "id": "b624bbcc",
   "metadata": {},
   "source": [
    "### Survival days based on Age and Gender"
   ]
  },
  {
   "cell_type": "code",
   "execution_count": null,
   "id": "3376d94a",
   "metadata": {},
   "outputs": [],
   "source": [
    "#Box plots for survival days (x-axis) and age (y-axis) and gender (hue)\n",
    "a = np.arange(0, 2208)\n",
    "#print(a)\n",
    "bins = 10\n",
    "_, b = np.histogram(a, bins)\n",
    "#print(b)\n",
    "c = np.array(merged_df['Survival_from_surgery_days']).astype(int)\n",
    "_, d = np.histogram(c, bins)\n",
    "indices = np.digitize(c, d)\n",
    "#print(indices)\n",
    "#print(b)\n",
    "\n",
    "\n",
    "plt.figure(figsize=(12, 8))\n",
    "fig_surv_age = sns.boxplot(x = indices, y = merged_df['Age_at_scan_years'], hue=merged_df['Gender'], width=0.4)\n",
    "#fig_label =fig_surv_age.set(xlabel='Survival Rate [days]', ylabel='Age [year]', title= 'Age Range split by Gender and Outcome')\n",
    "plt.xlabel('Survival Rate [days]', fontsize=14)\n",
    "plt.ylabel('Age [year]', fontsize=14)\n",
    "plt.title('Age Range split by Gender and Survival days', fontsize=17)\n",
    "custom_labels = ['0-220', '221-441', '442-662', '663-882', '883-1103', '1104-1324', '1325-1544', '1545-1765', '1766-1986', '1987-2207']\n",
    "fig_surv_age.set_xticklabels(custom_labels)\n",
    "\n",
    "\n",
    "#Modify legend: \n",
    "unique_values = clin_df['Gender'].unique()\n",
    "#Create custom legend handles and labels\n",
    "custom_handles = [plt.Rectangle((0, 0), 1, 1, fc=color)  for color in sns.color_palette(n_colors=len(unique_values))]\n",
    "\n",
    "custom_labels = ['F', 'M']\n",
    "fig_surv_age.legend(custom_handles, custom_labels, title='Gender')\n",
    "\n",
    "#Aesthetics: Black frame around the colours of the legend\n",
    "legend = plt.legend(handles=custom_handles, labels=custom_labels, title='Gender')\n",
    "for handle in legend.legendHandles:\n",
    "    handle.set_linewidth(1)\n",
    "    handle.set_edgecolor('black')\n",
    "\n",
    "\n",
    "\n",
    "plt.savefig('../output/boxplot_survival_age_gender')"
   ]
  },
  {
   "cell_type": "code",
   "execution_count": null,
   "id": "6083a330",
   "metadata": {},
   "outputs": [],
   "source": [
    "#Box plots for survival days (x-axis) and age (y-axis) and gender (hue)\n",
    "a = np.arange(0, 2208)\n",
    "#print(a)\n",
    "bins = 10\n",
    "_, b = np.histogram(a, bins)\n",
    "#print(b)\n",
    "c = np.array(merged_df['Survival_from_surgery_days']).astype(int)\n",
    "_, d = np.histogram(c, bins)\n",
    "indices = np.digitize(c, d)\n",
    "#print(indices)\n",
    "#print(b)\n",
    "\n",
    "\n",
    "plt.figure(figsize=(12, 8))\n",
    "fig_surv_age = sns.boxplot(x = indices, y = merged_df['Age_at_scan_years'], hue=merged_df['Gender'], palette=color_palette_bbg[:2], width=0.4)\n",
    "#fig_label =fig_surv_age.set(xlabel='Survival Rate [days]', ylabel='Age [year]', title= 'Age Range split by Gender and Outcome')\n",
    "plt.xlabel('Survival Rate [days]', fontsize=14)\n",
    "plt.ylabel('Age [year]', fontsize=14)\n",
    "plt.title('Age Range split by Gender and Survival days', fontsize=17)\n",
    "custom_labels = ['0-220', '221-441', '442-662', '663-882', '883-1103', '1104-1324', '1325-1544', '1545-1765', '1766-1986', '1987-2207']\n",
    "fig_surv_age.set_xticklabels(custom_labels)\n",
    "\n",
    "\n",
    "#Modify legend: \n",
    "unique_values = clin_df['Gender'].unique()\n",
    "#Create custom legend handles and labels\n",
    "custom_handles = [plt.Rectangle((0, 0), 1, 1, fc=color)  for color in  sns.color_palette(color_palette_bbg[:2])]\n",
    "custom_labels = ['F', 'M']\n",
    "fig_surv_age.legend(custom_handles, custom_labels, title='Gender')\n",
    "\n",
    "#Aesthetics: Black frame around the colours of the legend\n",
    "legend = plt.legend(handles=custom_handles, labels=custom_labels, title='Gender')\n",
    "for handle in legend.legendHandles:\n",
    "    handle.set_linewidth(1)\n",
    "    handle.set_edgecolor('black')\n",
    "\n",
    "\n",
    "\n",
    "plt.savefig('../output/boxplot_survival_age_gender_blackblue')\n"
   ]
  },
  {
   "attachments": {},
   "cell_type": "markdown",
   "id": "38ae5ec7",
   "metadata": {},
   "source": [
    "# Correlations between Variables  "
   ]
  },
  {
   "attachments": {},
   "cell_type": "markdown",
   "id": "8bb57d3b",
   "metadata": {},
   "source": [
    "## Test for normality and correlations"
   ]
  },
  {
   "cell_type": "code",
   "execution_count": null,
   "id": "67d6779f",
   "metadata": {},
   "outputs": [],
   "source": [
    "correlation_matrix = df_X_train.corr(method ='spearman')\n",
    "#print(correlation_matrix.shape)\n",
    "#print(correlation_matrix)"
   ]
  },
  {
   "cell_type": "code",
   "execution_count": null,
   "id": "b868ab58",
   "metadata": {},
   "outputs": [],
   "source": [
    "# coefficient matrix upper triangle\n",
    "#indices = np.triu_indices(correlation_matrix.shape[0], k=1)\n",
    "#array_correlation_matrix = correlation_matrix[indices]\n",
    "\n",
    "#print(array_correlation_matrix)\n",
    "\n",
    "# Exclude duplicate and diagonal values\n",
    "mask = np.triu(np.ones_like(correlation_matrix, dtype=bool), k = 1)\n",
    "#mask = np.triu_indices_from(correlation_matrix, k = 1)\n",
    "\n",
    "correlation_matrix_clean = correlation_matrix.where(mask)\n",
    "print()\n",
    "\n",
    "# Flatten the correlation matrix (excluding NaN values)\n",
    "correlation_values = correlation_matrix_clean.stack().values\n",
    "\n",
    "# Plot the distribution of correlation coefficients\n",
    "sns.histplot(correlation_values, kde=True, color = color_palette_bbg[2])\n",
    "plt.xlabel('Correlation Coefficient')\n",
    "plt.ylabel('Frequency')\n",
    "plt.title('Distribution of Correlation Coefficients')\n",
    "\n",
    "plt.savefig('../output/distribution_of_correlation_coefficients.png') \n",
    "\n",
    "plt.show()\n"
   ]
  },
  {
   "cell_type": "code",
   "execution_count": null,
   "id": "b1675f9b",
   "metadata": {},
   "outputs": [],
   "source": [
    "print(correlation_matrix_clean)\n",
    "print('******************************')\n",
    "print(correlation_values)\n",
    "print('******************************')\n",
    "print(correlation_values.shape)"
   ]
  },
  {
   "cell_type": "code",
   "execution_count": null,
   "id": "4a6dc07d",
   "metadata": {},
   "outputs": [],
   "source": [
    "data = df_X_train\n",
    "print(data.shape)"
   ]
  },
  {
   "cell_type": "code",
   "execution_count": null,
   "id": "0695f8f2",
   "metadata": {},
   "outputs": [],
   "source": [
    "print(correlation_matrix.shape)"
   ]
  },
  {
   "cell_type": "code",
   "execution_count": null,
   "id": "53b9010d",
   "metadata": {
    "scrolled": false
   },
   "outputs": [],
   "source": [
    "#dropping one of the features with a correlation higher than +/-0.7 (based on literature)\n",
    "correlation_threshold = 0.7\n",
    "dropped_features = set()\n",
    "\n",
    "\n",
    "for i in range(len(correlation_matrix.columns)):\n",
    "    for j in range(i):\n",
    "        if np.sqrt((correlation_matrix.iloc[i, j])**2) >= (correlation_threshold):\n",
    "            colname_i = correlation_matrix.columns[i]\n",
    "            colname_j = correlation_matrix.columns[j]\n",
    "            if colname_i not in dropped_features:\n",
    "                dropped_features.add(colname_j)\n",
    "                \n",
    "\n",
    "# Drop the correlated features from the dataset\n",
    "data.drop(dropped_features, axis = 1, inplace=True)\n",
    "\n",
    "# Print the updated dataset\n",
    "print(data.shape)\n",
    "\n"
   ]
  },
  {
   "cell_type": "code",
   "execution_count": null,
   "id": "4b8d441c",
   "metadata": {},
   "outputs": [],
   "source": [
    "df_X_test.drop(dropped_features, axis = 1, inplace=True)"
   ]
  },
  {
   "attachments": {},
   "cell_type": "markdown",
   "id": "7d3acb24",
   "metadata": {},
   "source": [
    "## Feature selection"
   ]
  },
  {
   "attachments": {},
   "cell_type": "markdown",
   "id": "e538393e",
   "metadata": {},
   "source": [
    "### Univariate Feature selection (Recursive Feature Eliminiation)"
   ]
  },
  {
   "cell_type": "code",
   "execution_count": null,
   "id": "693f2dc0",
   "metadata": {},
   "outputs": [],
   "source": [
    "#univariate feature selection -> RFE: \n",
    "data = pd.DataFrame(data)\n",
    "df_y_train = pd.Series(df_y_train) \n",
    "\n",
    "estimator = LinearRegression()\n",
    "rfe = RFE(estimator=estimator, n_features_to_select=236)\n",
    "rfe.fit(data, df_y_train)\n",
    "selected_features = rfe.support_"
   ]
  },
  {
   "attachments": {},
   "cell_type": "markdown",
   "id": "9b71f8c3",
   "metadata": {},
   "source": [
    "### Comparison: Mutual Info Regression"
   ]
  },
  {
   "cell_type": "code",
   "execution_count": null,
   "id": "5266b736",
   "metadata": {},
   "outputs": [],
   "source": [
    "# Models performed better with RFE -> used mututal_info_regression for the comparison\n",
    "\n",
    "\"\"\"\n",
    "mutual_info = mutual_info_regression(data, df_y_train)\n",
    "\n",
    "#Representing in list form\n",
    "mutual_info = pd.Series(mutual_info)\n",
    "mutual_info.index = data.columns\n",
    "#print(mutual_info.sort_values(ascending=False))\n",
    "\n",
    "#plotting\n",
    "mutual_info.sort_values(ascending=False).plot.bar(figsize=(20, 8))\n",
    "mutual_info_not=(mutual_info.values<0.001).sum()\n",
    "\n",
    "#print(mutual_info_not)\n",
    "k=741-mutual_info_not\n",
    "print(k)\n",
    "\n",
    "#Selecting best k features\n",
    "\n",
    "from sklearn.feature_selection import SelectKBest\n",
    "\n",
    "#selecting the top important features\n",
    "sel_best_cols = SelectKBest(mutual_info_regression, k=k)\n",
    "sel_best_cols.fit(data, df_y_train)\n",
    "selected_features_columns = data.columns[sel_best_cols.get_support()]\n",
    "\"\"\"\n",
    "#k=236 -> used also 236 features for the RFE"
   ]
  },
  {
   "cell_type": "code",
   "execution_count": null,
   "id": "26288803",
   "metadata": {},
   "outputs": [],
   "source": [
    "#print(selected_features)"
   ]
  },
  {
   "cell_type": "code",
   "execution_count": null,
   "id": "126bae94",
   "metadata": {},
   "outputs": [],
   "source": [
    "selected_features_columns = data.columns[selected_features]"
   ]
  },
  {
   "cell_type": "code",
   "execution_count": null,
   "id": "ba11ff17",
   "metadata": {},
   "outputs": [],
   "source": [
    "print(selected_features_columns)\n",
    "print(selected_features_columns.shape)"
   ]
  },
  {
   "cell_type": "code",
   "execution_count": null,
   "id": "ac315af9",
   "metadata": {},
   "outputs": [],
   "source": [
    "data_final_features = data[selected_features_columns]"
   ]
  },
  {
   "cell_type": "code",
   "execution_count": null,
   "id": "c8a4563a",
   "metadata": {},
   "outputs": [],
   "source": [
    "print(data_final_features)"
   ]
  },
  {
   "attachments": {},
   "cell_type": "markdown",
   "id": "a234871d",
   "metadata": {},
   "source": [
    "## Adjusting the test data: need the same features"
   ]
  },
  {
   "cell_type": "code",
   "execution_count": null,
   "id": "bc17b452",
   "metadata": {},
   "outputs": [],
   "source": [
    "df_X_test_final_features = df_X_test[selected_features_columns]\n"
   ]
  },
  {
   "cell_type": "code",
   "execution_count": null,
   "id": "b678cab9",
   "metadata": {},
   "outputs": [],
   "source": [
    "print(df_X_test_final_features)"
   ]
  },
  {
   "cell_type": "code",
   "execution_count": null,
   "id": "cb1bb9e3",
   "metadata": {},
   "outputs": [],
   "source": [
    "print(data.shape)\n",
    "print(df_y_train.shape)"
   ]
  },
  {
   "attachments": {},
   "cell_type": "markdown",
   "id": "1b852142",
   "metadata": {},
   "source": [
    "## Machine Learning Models with cross validation"
   ]
  },
  {
   "attachments": {},
   "cell_type": "markdown",
   "id": "ceaca0a9",
   "metadata": {},
   "source": [
    "### Evaluation metrics"
   ]
  },
  {
   "cell_type": "code",
   "execution_count": null,
   "id": "31866fa5",
   "metadata": {},
   "outputs": [],
   "source": [
    "    \n",
    "def get_scores(model, data_final_features, df_y_train, df_X_test, df_y_test):\n",
    "    y_pred_test = model.predict(df_X_test)\n",
    "    y_pred_train = model.predict(data_final_features)\n",
    "    \n",
    "    # evaluation\n",
    "    #r2_test = r2_score(y_test, y_pred_test)\n",
    "    #rmse_test = mean_squared_error(y_test, y_pred_test, squared=True)\n",
    "    r2_test = r2_score(df_y_test, y_pred_test)\n",
    "    rmse_test = mean_squared_error(df_y_test, y_pred_test, squared=True)\n",
    "\n",
    "    #r2_train = r2_score(y_train, y_pred_train)\n",
    "    #rmse_train = mean_squared_error(y_train, y_pred_train, squared=True)\n",
    "    r2_train = r2_score(df_y_train, y_pred_train)\n",
    "    rmse_train = mean_squared_error(df_y_train, y_pred_train, squared=True)\n",
    "\n",
    "\n",
    "    print('Training set score: R2 score: {:.3f}, RMSE: {:.3f}'.format(r2_train, rmse_train))\n",
    "    print('Test set score: R2 score: {:.3f}, RMSE: {:.3f}'.format(r2_test, rmse_test))\n",
    "\n",
    "\n",
    "############################################################################################################\n",
    "\n",
    "def evaluation_metrics(clf, y, X):\n",
    "    # Get the predicted labels\n",
    "    y_test_pred = clf.predict(X)\n",
    "\n",
    "    # Calculate the evaluation metrics for regression\n",
    "    r2 = r2_score(y, y_test_pred)\n",
    "    mse = mean_squared_error(y, y_test_pred)\n",
    "    rmse = sqrt(mse) \n",
    "    mae = mean_absolute_error(y, y_test_pred)\n",
    "    \n",
    "    return [r2, rmse, mae]"
   ]
  },
  {
   "attachments": {},
   "cell_type": "markdown",
   "id": "d7edd8c8",
   "metadata": {},
   "source": [
    "### Crossvalidation"
   ]
  },
  {
   "cell_type": "code",
   "execution_count": null,
   "id": "9e091166",
   "metadata": {},
   "outputs": [],
   "source": [
    "# Perform a 3-fold cross-validation\n",
    "\n",
    "# Set the random seed\n",
    "random_seed = 42\n",
    "np.random.seed(random_seed)\n",
    "\n",
    "# Initialize the cross-validator\n",
    "n_splits = 3\n",
    "kf = KFold(n_splits=n_splits, shuffle=True, random_state=random_seed)\n",
    "\n",
    "# Prepare the performance overview DataFrame\n",
    "df_performance = pd.DataFrame(columns=['fold', 'clf', 'r2', 'rmse', 'mae'])\n",
    "\n",
    "# Use this counter to save your performance metrics for each cross-validation fold\n",
    "fold_number = 0\n",
    "for train_index, test_index in kf.split(data_final_features):\n",
    "    \n",
    "    x_train_cv = data_final_features.iloc[train_index] \n",
    "    x_val_cv = data_final_features.iloc[test_index]\n",
    "    y_train_cv = df_y_train.iloc[train_index]\n",
    "    y_val_cv = df_y_train.iloc[test_index]\n",
    "    \n",
    "    # Linear regression\n",
    "    clf = LinearRegression()\n",
    "    clf.fit(x_train_cv, y_train_cv)\n",
    "    eval_metrics_LR = evaluation_metrics(clf, y_val_cv, x_val_cv)\n",
    "    df_performance.loc[len(df_performance)-1, :] = [fold_number, 'LinearRegression'] + eval_metrics_LR\n",
    "\n",
    "    # Lasso regression\n",
    "    clf_lasso = Lasso(random_state=random_seed)\n",
    "    clf_lasso.fit(x_train_cv, y_train_cv)\n",
    "    eval_metrics_lasso = evaluation_metrics(clf_lasso, y_val_cv, x_val_cv)\n",
    "    df_performance.loc[len(df_performance)-1, :] = [fold_number, 'LassoRegression'] + eval_metrics_lasso\n",
    "\n",
    "    # Ridge regression\n",
    "    clf_ridge = Ridge(random_state=random_seed)\n",
    "    clf_ridge.fit(x_train_cv, y_train_cv)\n",
    "    eval_metrics_ridge = evaluation_metrics(clf_ridge, y_val_cv, x_val_cv)\n",
    "    df_performance.loc[len(df_performance)-1, :] = [fold_number, 'RidgeRegression'] + eval_metrics_ridge\n",
    "\n",
    "    # Random forest\n",
    "    clf_rf = RandomForestRegressor(random_state=random_seed)\n",
    "    clf_rf.fit(x_train_cv, y_train_cv)\n",
    "    eval_metrics_rf = evaluation_metrics(clf_rf, y_val_cv, x_val_cv)\n",
    "    df_performance.loc[len(df_performance)-1, :] = [fold_number, 'RandomForest'] + eval_metrics_rf\n",
    "    \n",
    "    #SVM\n",
    "    clf_svm = svm.SVR(kernel='rbf')\n",
    "    clf_svm.fit(x_train_cv, y_train_cv)\n",
    "    eval_metrics_svm = evaluation_metrics(clf_svm, y_val_cv, x_val_cv)\n",
    "    df_performance.loc[len(df_performance)-1, :] = [fold_number, 'SupportVectorMachine'] + eval_metrics_svm    \n",
    "\n",
    "    # Increase counter for folds\n",
    "    fold_number += 1\n",
    "\n",
    "# Print the performance overview DataFrame\n",
    "print(df_performance)\n"
   ]
  },
  {
   "cell_type": "code",
   "execution_count": null,
   "id": "58b8a00f",
   "metadata": {},
   "outputs": [],
   "source": [
    "df_performance_mean = df_performance.groupby('clf').mean()\n",
    "print(df_performance_mean)"
   ]
  },
  {
   "attachments": {},
   "cell_type": "markdown",
   "id": "cab74d7c",
   "metadata": {},
   "source": [
    "## Final Feature selection"
   ]
  },
  {
   "cell_type": "code",
   "execution_count": null,
   "id": "280a61bb",
   "metadata": {},
   "outputs": [],
   "source": [
    "coefficients = clf_ridge.coef_\n",
    "abs_coefficients = abs(coefficients)\n",
    "\n",
    "\n",
    "# Compute the normalized feature importance\n",
    "feature_importance = abs_coefficients / abs_coefficients.sum()\n",
    "\n",
    "# Create a dictionary to store the feature importance\n",
    "feature_importance_dict = dict(zip(data_final_features.columns, feature_importance))\n",
    "\n",
    "# Sort the feature importance dictionary by values in descending order\n",
    "sorted_feature_importance = dict(sorted(feature_importance_dict.items(), key=lambda x: x[1], reverse=True))\n",
    "\n",
    "\n",
    "\n",
    "# Get all features\n",
    "all_indices = abs_coefficients.argsort()[:][::-1]\n",
    "\n",
    "all_features = [data_final_features.columns[i] for i in all_indices]\n",
    "\n",
    "\n",
    "# Get the top 10 features based on the absolute coefficient values\n",
    "top_10_indices = abs_coefficients.argsort()[-10:][::-1]\n",
    "\n",
    "top_10_features = [data_final_features.columns[i] for i in top_10_indices]\n",
    "\n"
   ]
  },
  {
   "cell_type": "code",
   "execution_count": null,
   "id": "4a545a08",
   "metadata": {},
   "outputs": [],
   "source": [
    "# Get all features\n",
    "all_indices = abs_coefficients.argsort()[:][::-1]\n",
    "\n",
    "all_features = [data_final_features.columns[i] for i in all_indices]\n",
    "\n",
    "\n",
    "\n",
    "# All features plot\n",
    "feature_importance_df_all = pd.DataFrame(columns=['Feature', 'Importance'])\n",
    "\n",
    "# Iterate over the top_10_features list\n",
    "for feature in all_features:\n",
    "    importance_all = sorted_feature_importance.get(feature)\n",
    "    feature_importance_df_all = feature_importance_df_all.append({'Feature': feature, 'Importance': importance_all}, ignore_index=True)\n",
    "\n",
    "# Print the feature importance DataFrame\n",
    "print(feature_importance_df_all)\n",
    "\n",
    "\n",
    "feature_importance_all_plot = sns.barplot(feature_importance_df_all, x = 'Feature', y = 'Importance', color = color_palette_bbg[2])\n",
    "# feature_importance_all_plot.set_xticklabels(feature_importance_all_plot.get_xticklabels(), rotation=90)\n",
    "plt.xticks([])\n",
    "plt.savefig('../output/feature_importance_all')\n",
    "\n"
   ]
  },
  {
   "cell_type": "code",
   "execution_count": null,
   "id": "58cef3a3",
   "metadata": {
    "scrolled": true
   },
   "outputs": [],
   "source": [
    "#Top 10 features plot\n",
    "\n",
    "feature_importance_df_top_10 = pd.DataFrame(columns=['Feature', 'Importance'])\n",
    "\n",
    "# Iterate over the top_10_features list\n",
    "for feature in top_10_features:\n",
    "    importance_top_10 = sorted_feature_importance.get(feature)\n",
    "    feature_importance_df_top_10 = feature_importance_df_top_10.append({'Feature': feature, 'Importance': importance_top_10}, ignore_index=True)\n",
    "\n",
    "# Print the feature importance DataFrame\n",
    "print(feature_importance_df_top_10)\n",
    "\n",
    "feature_importance_top_10_plot = sns.barplot(feature_importance_df_top_10, x = 'Feature', y = 'Importance', color = color_palette_bbg[2])\n",
    "feature_importance_top_10_plot.set_xticklabels(feature_importance_top_10_plot.get_xticklabels(), rotation=90)\n",
    "plt.ylim(0.008, 0.014)\n",
    "\n",
    "plt.xlabel('Feature Names', fontsize=12)\n",
    "plt.ylabel('Absolute Importance of Top Ten Features', fontsize=12)\n",
    "plt.title('Top Ten Features', fontsize=16)\n",
    "plt.ylim(0.01, 0.0135)\n",
    "\n",
    "plt.savefig('../output/top10_feature_importance')\n"
   ]
  },
  {
   "attachments": {},
   "cell_type": "markdown",
   "id": "a0104c8c",
   "metadata": {},
   "source": [
    "### Top Ten Features Linear?"
   ]
  },
  {
   "cell_type": "code",
   "execution_count": null,
   "id": "f655fd22",
   "metadata": {},
   "outputs": [],
   "source": [
    "top10_features_names = feature_importance_df_top_10['Feature']\n",
    "#print(top10_features_names)\n",
    "top10_features_list = top10_features_names.tolist()\n",
    "top10_features_data = pd.merge(merged_df[top10_features_list], merged_df['Survival_from_surgery_days'], left_index=True, right_index=True)\n",
    "top10_features_data['Survival_from_surgery_days'] = pd.to_numeric(top10_features_data['Survival_from_surgery_days'])\n",
    "top10_features_data = top10_features_data.sort_values(by='Survival_from_surgery_days', ascending = True)\n",
    "print(top10_features_data)\n",
    "\n",
    "import matplotlib.ticker as mticker\n",
    "\n",
    "fig, axes = plt.subplots(5, 2, figsize=(14, 14))\n",
    "axes = axes.flatten()\n",
    "for i, feature in enumerate(top10_features_list):\n",
    "    ax = sns.scatterplot(data = top10_features_data, x = feature , y = 'Survival_from_surgery_days', ax = axes[i], color = color_palette_bbg[2])\n",
    "    ax.set_xlabel(feature)\n",
    "    ax.set_ylabel('Survival days')\n",
    "    ax.yaxis.set_major_locator(mticker.MultipleLocator(200))\n",
    "\n",
    "    \n",
    "fig.suptitle('Linearity of the Top Ten Features', fontsize=14)\n",
    "plt.tight_layout()\n",
    "\n",
    "plt.savefig('../output/Linearity_TopTenFeatures.png')\n",
    "\n",
    "plt.show()\n",
    "\n"
   ]
  },
  {
   "attachments": {},
   "cell_type": "markdown",
   "id": "57f02428",
   "metadata": {},
   "source": [
    "## Evaluation of the final model (Ridge Regression)"
   ]
  },
  {
   "cell_type": "code",
   "execution_count": null,
   "id": "8803ce90",
   "metadata": {},
   "outputs": [],
   "source": [
    "#compute model with our training set and predict it for the test set\n",
    "clf_ridge.fit(data_final_features, df_y_train)\n",
    "coefficients_RidgeR = clf_ridge.coef_\n",
    "intercept_RidgeR = clf_ridge.intercept_\n",
    "y_pred_test_RidgeR = clf_ridge.predict(df_X_test_final_features)\n",
    "\n",
    "# Calculate the evaluation metrics for regression\n",
    "r2_RidgeR = r2_score(df_y_test, y_pred_test_RidgeR)\n",
    "mse_RidgeR = mean_squared_error(df_y_test, y_pred_test_RidgeR)\n",
    "rmse_RidgeR = sqrt(mse_RidgeR)\n",
    "mae_RidgeR = mean_absolute_error(df_y_test, y_pred_test_RidgeR)\n",
    "\n",
    "df_performance_RidgeR = {'R2': r2_RidgeR, 'RMSE': rmse_RidgeR, 'MAE': mae_RidgeR}\n",
    "\n",
    "print(df_performance_RidgeR)\n"
   ]
  }
 ],
 "metadata": {
  "kernelspec": {
   "display_name": "Python 3 (ipykernel)",
   "language": "python",
   "name": "python3"
  },
  "language_info": {
   "codemirror_mode": {
    "name": "ipython",
    "version": 3
   },
   "file_extension": ".py",
   "mimetype": "text/x-python",
   "name": "python",
   "nbconvert_exporter": "python",
   "pygments_lexer": "ipython3",
   "version": "3.10.10"
  }
 },
 "nbformat": 4,
 "nbformat_minor": 5
}
